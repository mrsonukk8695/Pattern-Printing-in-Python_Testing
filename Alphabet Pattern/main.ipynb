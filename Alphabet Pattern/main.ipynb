{
 "cells": [
  {
   "cell_type": "markdown",
   "metadata": {},
   "source": [
    "### Printing All Letters in star "
   ]
  },
  {
   "cell_type": "code",
   "execution_count": 1,
   "metadata": {},
   "outputs": [
    {
     "name": "stdout",
     "output_type": "stream",
     "text": [
      "*****\n",
      "*   *\n",
      "*****\n",
      "*   *\n",
      "*   *\n"
     ]
    }
   ],
   "source": [
    "# Print A\n",
    "number_of_rows = 5\n",
    "number_of_cols = 5\n",
    "for rows in range(1, number_of_rows+1):\n",
    "    for cols in range(1,number_of_cols+1):\n",
    "        if (rows==1 or (cols==1 or cols==5) or rows%3==0):\n",
    "            print(\"*\",end=\"\")\n",
    "        else:\n",
    "            print(\" \",end=\"\")\n",
    "    print(\"\")"
   ]
  },
  {
   "cell_type": "code",
   "execution_count": 2,
   "metadata": {},
   "outputs": [
    {
     "name": "stdout",
     "output_type": "stream",
     "text": [
      "    *      \n",
      "   * *      \n",
      "  * * *      \n",
      " *     *    \n",
      "*       *   \n"
     ]
    }
   ],
   "source": [
    "# Print A\n",
    "number_of_rows = 5\n",
    "number_of_cols = 9\n",
    "for rows in range(1, number_of_rows+1):\n",
    "    for cols in range(1,number_of_cols+1):\n",
    "        if (rows+cols==6 or (cols-rows==3 and (rows!=1 and rows!=3 )) or (rows==3 and (cols==4 or cols==5))):\n",
    "            print(\"*\",end=\" \")\n",
    "        else:\n",
    "            print(\" \",end=\"\")\n",
    "    print(\" \")"
   ]
  },
  {
   "cell_type": "code",
   "execution_count": 3,
   "metadata": {},
   "outputs": [
    {
     "name": "stdout",
     "output_type": "stream",
     "text": [
      "* * * *    \n",
      "*      * \n",
      "* * * *    \n",
      "*      * \n",
      "* * * *    \n"
     ]
    }
   ],
   "source": [
    "# Print B\n",
    "number_of_rows = 5\n",
    "number_of_cols = 7\n",
    "for rows in range(1, number_of_rows+1):\n",
    "    for cols in range(1,number_of_cols+1):\n",
    "        if cols==1 or (rows%2==1 and cols<5) or (rows%2==0 and cols ==7):\n",
    "            print(\"* \",end=\"\")\n",
    "        else:\n",
    "            print(\" \",end=\"\")\n",
    "    print(\"\")"
   ]
  },
  {
   "cell_type": "code",
   "execution_count": 4,
   "metadata": {},
   "outputs": [
    {
     "name": "stdout",
     "output_type": "stream",
     "text": [
      " * *  \n",
      "*    \n",
      "*    \n",
      " * *  \n"
     ]
    }
   ],
   "source": [
    "# Print C\n",
    "number_of_rows = 4\n",
    "number_of_cols = 4\n",
    "for rows in range(1, number_of_rows+1):\n",
    "    for cols in range(1,number_of_cols+1):\n",
    "        if rows==cols or rows+cols==5 or cols==4:\n",
    "            print(\" \",end=\"\")\n",
    "        else:\n",
    "            print(\"* \",end=\"\")\n",
    "    print(\"\")"
   ]
  },
  {
   "cell_type": "code",
   "execution_count": 5,
   "metadata": {},
   "outputs": [
    {
     "name": "stdout",
     "output_type": "stream",
     "text": [
      "* * * *      \n",
      " *      *  \n",
      " *      *  \n",
      " *      *  \n",
      "* * * *      \n"
     ]
    }
   ],
   "source": [
    "# Print D\n",
    "number_of_rows = 5\n",
    "number_of_cols = 9\n",
    "for rows in range(1, number_of_rows+1):\n",
    "    for cols in range(1,number_of_cols+1):\n",
    "        if cols==2 or (rows%4==1 and cols<5) or ((rows==3 or rows%2==0) and cols ==8):\n",
    "            print(\"* \" ,end=\"\")\n",
    "        else:\n",
    "            print(\" \",end=\"\")\n",
    "    print(\"\")"
   ]
  },
  {
   "cell_type": "code",
   "execution_count": 6,
   "metadata": {},
   "outputs": [
    {
     "name": "stdout",
     "output_type": "stream",
     "text": [
      "* * * * \n",
      "*    \n",
      "* * * * \n",
      "*    \n",
      "* * * * \n"
     ]
    }
   ],
   "source": [
    "# Print E\n",
    "number_of_rows = 5\n",
    "number_of_cols = 5\n",
    "for rows in range(1, number_of_rows+1):\n",
    "    for cols in range(1,number_of_cols):\n",
    "        if (cols==1 or rows%2==1):\n",
    "            print(\"* \",end=\"\")\n",
    "        else:\n",
    "            print(\" \",end=\"\")\n",
    "    print(\"\")"
   ]
  },
  {
   "cell_type": "code",
   "execution_count": 7,
   "metadata": {},
   "outputs": [
    {
     "name": "stdout",
     "output_type": "stream",
     "text": [
      "* * * * \n",
      "*    \n",
      "* * * * \n",
      "*    \n",
      "*    \n"
     ]
    }
   ],
   "source": [
    "# Print F\n",
    "number_of_rows = 5\n",
    "number_of_cols = 4\n",
    "for rows in range(1, number_of_rows+1):\n",
    "    for cols in range(1,number_of_cols+1):\n",
    "        if (cols==1 or rows%2!=0 and rows<5) :\n",
    "            print(\"* \",end=\"\")\n",
    "        else:\n",
    "            print(\" \",end=\"\")\n",
    "    print(\"\")"
   ]
  },
  {
   "cell_type": "code",
   "execution_count": 8,
   "metadata": {},
   "outputs": [
    {
     "name": "stdout",
     "output_type": "stream",
     "text": [
      "  ***  \n",
      " *   * \n",
      " *     \n",
      " * *** \n",
      " *   * \n",
      " *   * \n",
      "  ***  \n",
      "\n"
     ]
    }
   ],
   "source": [
    "# Print G\n",
    "str=\"\";   \n",
    "for Row in range(0,7):    \n",
    "    for Col in range(0,7):     \n",
    "        if ((Col == 1 and Row != 0 and Row != 6) or ((Row == 0 or Row == 6) and Col > 1 and Col < 5) or (Row == 3 and Col > 2 and Col < 6) or (Col == 5 and Row != 0 and Row != 2 and Row != 6)):  \n",
    "            str=str+\"*\"    \n",
    "        else:      \n",
    "            str=str+\" \"    \n",
    "    str=str+\"\\n\"    \n",
    "print(str); "
   ]
  },
  {
   "cell_type": "code",
   "execution_count": 9,
   "metadata": {},
   "outputs": [
    {
     "name": "stdout",
     "output_type": "stream",
     "text": [
      "*   *\n",
      "*   *\n",
      "*****\n",
      "*   *\n",
      "*   *\n"
     ]
    }
   ],
   "source": [
    "# Print H\n",
    "number_of_rows = 5\n",
    "number_of_cols = 5\n",
    "for rows in range(1, number_of_rows+1):\n",
    "    for cols in range(1,number_of_cols+1):\n",
    "        if ((cols==1 or cols==5) or rows%3==0):\n",
    "            print(\"*\",end=\"\")\n",
    "        else:\n",
    "            print(\" \",end=\"\")\n",
    "    print(\"\")"
   ]
  },
  {
   "cell_type": "code",
   "execution_count": 10,
   "metadata": {},
   "outputs": [
    {
     "name": "stdout",
     "output_type": "stream",
     "text": [
      "* * * * * \n",
      "    *     \n",
      "    *     \n",
      "    *     \n",
      "* * * * * \n"
     ]
    }
   ],
   "source": [
    "#Print I\n",
    "number_of_rows = 5\n",
    "number_of_cols = 5\n",
    "for rows in range(1, number_of_rows+1):\n",
    "    for cols in range(1,number_of_cols+1):\n",
    "        if ((rows==1 or rows==5) or (cols==3)):\n",
    "            print(\"*\",end=\" \")\n",
    "        else:\n",
    "            print(\" \",end=\" \")\n",
    "    print(\"\")"
   ]
  },
  {
   "cell_type": "code",
   "execution_count": 12,
   "metadata": {},
   "outputs": [
    {
     "name": "stdout",
     "output_type": "stream",
     "text": [
      "* * * * * \n",
      "    *     \n",
      "    *     \n",
      "*   *     \n",
      "* * *     \n"
     ]
    }
   ],
   "source": [
    "#Print J\n",
    "number_of_rows = 5\n",
    "number_of_cols = 5\n",
    "for rows in range(1, number_of_rows+1):\n",
    "    for cols in range(1,number_of_cols+1):\n",
    "        if ((rows==1 )or (rows==4 and cols==1) or (cols==3) or (rows==5 and cols<3)):\n",
    "            print(\"*\",end=\" \")\n",
    "        else:\n",
    "            print(\" \",end=\" \")\n",
    "    print(\"\")"
   ]
  },
  {
   "cell_type": "code",
   "execution_count": 11,
   "metadata": {},
   "outputs": [
    {
     "name": "stdout",
     "output_type": "stream",
     "text": [
      " *  *\n",
      " * * \n",
      " **  \n",
      " * * \n",
      " *  *\n"
     ]
    }
   ],
   "source": [
    "#Print K\n",
    "number_of_rows = 5\n",
    "number_of_cols = 5\n",
    "for rows in range(1, number_of_rows+1):\n",
    "    for cols in range(1,number_of_cols+1):\n",
    "        if (cols ==2 or(rows==cols or rows+cols==6) and cols>2):\n",
    "            print(\"*\",end=\"\")\n",
    "        else:\n",
    "            print(\" \",end=\"\")\n",
    "    print(\"\")"
   ]
  },
  {
   "cell_type": "code",
   "execution_count": 13,
   "metadata": {},
   "outputs": [
    {
     "name": "stdout",
     "output_type": "stream",
     "text": [
      "*    \n",
      "*    \n",
      "*    \n",
      "*    \n",
      "* * * * \n"
     ]
    }
   ],
   "source": [
    "# Print L\n",
    "number_of_rows = 5\n",
    "number_of_cols = 5\n",
    "for rows in range(1,number_of_rows+1):\n",
    "    for cols in range(1,number_of_cols):\n",
    "        if(rows==5 or cols==1):\n",
    "            print(\"* \",end=\"\")\n",
    "        else:\n",
    "            print(\" \",end=\"\")\n",
    "    print(\"\")"
   ]
  },
  {
   "cell_type": "code",
   "execution_count": 14,
   "metadata": {},
   "outputs": [
    {
     "name": "stdout",
     "output_type": "stream",
     "text": [
      "*       * \n",
      "* *   * * \n",
      "*   *   * \n",
      "*       * \n",
      "*       * \n"
     ]
    }
   ],
   "source": [
    "# Print M\n",
    "number_of_rows = 5\n",
    "number_of_cols = 5\n",
    "for rows in range(1, number_of_rows+1):\n",
    "    for cols in range(1,number_of_cols+1):\n",
    "        if (cols==1 or cols ==5 or(rows==cols)and rows<4) or (rows+cols==6 and rows<4):\n",
    "            print(\"*\",end=\" \")\n",
    "        else:\n",
    "            print(\" \",end=\" \")\n",
    "    print(\"\")"
   ]
  },
  {
   "cell_type": "code",
   "execution_count": 15,
   "metadata": {},
   "outputs": [
    {
     "name": "stdout",
     "output_type": "stream",
     "text": [
      "*   *\n",
      "**  *\n",
      "* * *\n",
      "*  **\n",
      "*   *\n"
     ]
    }
   ],
   "source": [
    "# Print N\n",
    "number_of_rows = 5\n",
    "number_of_cols = 6\n",
    "for rows in range(1,number_of_rows+1):\n",
    "    for cols in range(1,number_of_cols):\n",
    "        if(cols==1 or rows==cols or cols==5):\n",
    "            print(\"*\",end=\"\")\n",
    "        else:\n",
    "            print(\" \",end=\"\")\n",
    "    print(\"\")"
   ]
  },
  {
   "cell_type": "code",
   "execution_count": 16,
   "metadata": {},
   "outputs": [
    {
     "name": "stdout",
     "output_type": "stream",
     "text": [
      " * *  \n",
      "*   * \n",
      "*   * \n",
      " * *  \n"
     ]
    }
   ],
   "source": [
    "# Print O\n",
    "number_of_rows = 4\n",
    "number_of_cols = 4\n",
    "for rows in range(1, number_of_rows+1):\n",
    "    for cols in range(1,number_of_cols+1):\n",
    "        if rows==cols or rows+cols==5:\n",
    "            print(\" \",end=\"\")\n",
    "        else:\n",
    "            print(\"* \",end=\"\")\n",
    "    print(\"\")"
   ]
  },
  {
   "cell_type": "code",
   "execution_count": 17,
   "metadata": {},
   "outputs": [
    {
     "name": "stdout",
     "output_type": "stream",
     "text": [
      "* * * *   \n",
      "*       * \n",
      "* * * *   \n",
      "*         \n",
      "*         \n"
     ]
    }
   ],
   "source": [
    "#Print P\n",
    "number_of_rows = 5\n",
    "number_of_cols = 5\n",
    "for rows in range(1, number_of_rows+1):\n",
    "    for cols in range(1,number_of_cols+1):\n",
    "        if ((cols==1 or rows%2!=0 and rows<4 and cols<5 )or (cols==5 and rows==2)):\n",
    "            print(\"*\",end=\" \")\n",
    "        else:\n",
    "            print(\" \",end=\" \")\n",
    "    print(\"\")"
   ]
  },
  {
   "cell_type": "code",
   "execution_count": 18,
   "metadata": {},
   "outputs": [
    {
     "name": "stdout",
     "output_type": "stream",
     "text": [
      "  ***  \n",
      " *   * \n",
      " *   * \n",
      " *   * \n",
      " * * * \n",
      " *  *  \n",
      "  ** * \n",
      "\n"
     ]
    }
   ],
   "source": [
    "# Print Q\n",
    "str=\"\";    \n",
    "for Row in range(0,7):    \n",
    "    for Col in range(0,7):     \n",
    "        if ((Col == 1 and Row != 0 and Row != 6) or (Row == 0 and Col > 1 and Col < 5) or (Col == 5 and Row != 0 and Row != 5) or (Row == 6 and Col > 1 and Col < 4) or (Col == Row - 1 and Row > 3)):  \n",
    "            str=str+\"*\"    \n",
    "        else:      \n",
    "            str=str+\" \"    \n",
    "    str=str+\"\\n\"    \n",
    "print(str); "
   ]
  },
  {
   "cell_type": "code",
   "execution_count": 19,
   "metadata": {},
   "outputs": [
    {
     "name": "stdout",
     "output_type": "stream",
     "text": [
      "* * * *   \n",
      "*       * \n",
      "* * * *   \n",
      "*   *     \n",
      "*     *   \n"
     ]
    }
   ],
   "source": [
    "#Print R\n",
    "number_of_rows = 5\n",
    "number_of_cols = 5\n",
    "for rows in range(1, number_of_rows+1):\n",
    "    for cols in range(1,number_of_cols+1):\n",
    "        if ((cols==1 or rows%2!=0 and rows<4 and cols<5 )or (cols==5 and rows==2) or (rows==4 and cols==3) or (rows==5 and cols==4)):\n",
    "            print(\"*\",end=\" \")\n",
    "        else:\n",
    "            print(\" \",end=\" \")\n",
    "    print(\"\")"
   ]
  },
  {
   "cell_type": "code",
   "execution_count": 20,
   "metadata": {},
   "outputs": [
    {
     "name": "stdout",
     "output_type": "stream",
     "text": [
      "  * * *   \n",
      "*         \n",
      "  * * *   \n",
      "        * \n",
      "  * * *   \n"
     ]
    }
   ],
   "source": [
    "#Print S\n",
    "number_of_rows = 5\n",
    "number_of_cols = 5\n",
    "for rows in range(1, number_of_rows+1):\n",
    "    for cols in range(1,number_of_cols+1):\n",
    "        if ((rows%2==1) and (cols!=1 and cols!=5)) or (rows==2 and (cols==1) or (rows==4 and (cols==5))):\n",
    "            print(\"*\",end=\" \")\n",
    "        else:\n",
    "            print(\" \",end=\" \")\n",
    "    print(\"\")"
   ]
  },
  {
   "cell_type": "code",
   "execution_count": 21,
   "metadata": {},
   "outputs": [
    {
     "name": "stdout",
     "output_type": "stream",
     "text": [
      "* * * * * \n",
      "    *     \n",
      "    *     \n",
      "    *     \n",
      "    *     \n"
     ]
    }
   ],
   "source": [
    "#Print T\n",
    "number_of_rows = 5\n",
    "number_of_cols = 5\n",
    "for rows in range(1, number_of_rows+1):\n",
    "    for cols in range(1,number_of_cols+1):\n",
    "        if ((rows==1) or (cols==3)):\n",
    "            print(\"*\",end=\" \")\n",
    "        else:\n",
    "            print(\" \",end=\" \")\n",
    "    print(\"\")"
   ]
  },
  {
   "cell_type": "code",
   "execution_count": 22,
   "metadata": {},
   "outputs": [
    {
     "name": "stdout",
     "output_type": "stream",
     "text": [
      "*       * \n",
      "*       * \n",
      "*       * \n",
      "*       * \n",
      "  * * *   \n"
     ]
    }
   ],
   "source": [
    "# Print U\n",
    "number_of_rows = 5\n",
    "number_of_cols = 5\n",
    "for rows in range(1, number_of_rows+1):\n",
    "    for cols in range(1,number_of_cols+1):\n",
    "        if ((cols==1 or cols==5) and rows<5) or  (rows==5 and (cols!=1 and cols<5)):\n",
    "            print(\"*\",end=\" \")\n",
    "        else:\n",
    "            print(\" \",end=\" \")\n",
    "    print(\"\")"
   ]
  },
  {
   "cell_type": "code",
   "execution_count": 23,
   "metadata": {},
   "outputs": [
    {
     "name": "stdout",
     "output_type": "stream",
     "text": [
      "*       *\n",
      " *     * \n",
      "  *   *  \n",
      "   * *   \n",
      "    *    \n"
     ]
    }
   ],
   "source": [
    "# Print V\n",
    "number_of_rows = 5\n",
    "number_of_cols = 9\n",
    "for rows in range(1, number_of_rows+1):\n",
    "    for cols in range(1,number_of_cols+1):\n",
    "        if rows==cols or rows+cols==10:\n",
    "            print(\"*\",end=\"\")\n",
    "        else:\n",
    "            print(\" \",end=\"\")\n",
    "    print(\"\")\n"
   ]
  },
  {
   "cell_type": "code",
   "execution_count": 24,
   "metadata": {},
   "outputs": [
    {
     "name": "stdout",
     "output_type": "stream",
     "text": [
      "*           *                 \n",
      " *         *                  \n",
      "  *   *   *                   \n",
      "   * * * *                    \n",
      "    *   *                     \n"
     ]
    }
   ],
   "source": [
    "# Print W\n",
    "number_of_rows = 5\n",
    "number_of_cols = 30\n",
    "for rows in range(1, number_of_rows+1):\n",
    "    for cols in range(1,number_of_cols+1):\n",
    "        if (rows==cols or (rows+cols==10 and rows>=3) or (cols-rows==4 and rows>3) or rows+cols==14):\n",
    "            print(\"*\",end=\"\")\n",
    "        else:\n",
    "            print(\" \",end=\"\")\n",
    "    print(\"\")"
   ]
  },
  {
   "cell_type": "code",
   "execution_count": 25,
   "metadata": {},
   "outputs": [
    {
     "name": "stdout",
     "output_type": "stream",
     "text": [
      "*   *\n",
      " * * \n",
      "  *  \n",
      " * * \n",
      "*   *\n"
     ]
    }
   ],
   "source": [
    "# Print X\n",
    "number_of_rows = 5\n",
    "number_of_cols = 5\n",
    "for rows in range(1, number_of_rows+1):\n",
    "    for cols in range(1,number_of_cols+1):\n",
    "        if rows==cols or rows+cols==6:\n",
    "            print(\"*\",end=\"\")\n",
    "        else:\n",
    "            print(\" \",end=\"\")\n",
    "    print(\"\")"
   ]
  },
  {
   "cell_type": "code",
   "execution_count": 26,
   "metadata": {},
   "outputs": [
    {
     "name": "stdout",
     "output_type": "stream",
     "text": [
      "*       * \n",
      "  *   *   \n",
      "    *     \n",
      "    *     \n",
      "    *     \n"
     ]
    }
   ],
   "source": [
    "# Print Y\n",
    "number_of_rows = 5\n",
    "number_of_cols = 5\n",
    "for rows in range(1, number_of_rows+1):\n",
    "    for cols in range(1,number_of_cols+1):\n",
    "        if ((rows==cols)and rows<4) or (rows+cols==6 and rows<4) or (cols==3 and rows>3):\n",
    "            print(\"*\",end=\" \")\n",
    "        else:\n",
    "            print(\" \",end=\" \")\n",
    "    print(\"\")"
   ]
  },
  {
   "cell_type": "code",
   "execution_count": 27,
   "metadata": {},
   "outputs": [
    {
     "name": "stdout",
     "output_type": "stream",
     "text": [
      "*   *\n",
      " * * \n",
      "  *  \n",
      " *   \n",
      "*    \n"
     ]
    }
   ],
   "source": [
    "# Print Y\n",
    "number_of_rows = 5\n",
    "number_of_cols = 5\n",
    "for rows in range(1, number_of_rows+1):\n",
    "    for cols in range(1,number_of_cols+1):\n",
    "        if ((rows==cols)and rows<4) or (rows+cols==6):\n",
    "            print(\"*\",end=\"\")\n",
    "        else:\n",
    "            print(\" \",end=\"\")\n",
    "    print(\"\")"
   ]
  },
  {
   "cell_type": "code",
   "execution_count": 28,
   "metadata": {},
   "outputs": [
    {
     "name": "stdout",
     "output_type": "stream",
     "text": [
      "* * * * * * \n",
      "        *   \n",
      "      *     \n",
      "    *       \n",
      "  *         \n",
      "* * * * * * \n"
     ]
    }
   ],
   "source": [
    "# Print Z\n",
    "number_of_rows = 6\n",
    "number_of_cols = 6\n",
    "for rows in range(1, number_of_rows+1):\n",
    "    for cols in range(1,number_of_cols+1):\n",
    "        if rows+cols==7 or (rows==1 or rows==6):\n",
    "            print(\"*\",end=\" \")\n",
    "        else:\n",
    "            print(\" \",end=\" \")\n",
    "    print(\"\")\n"
   ]
  },
  {
   "cell_type": "code",
   "execution_count": null,
   "metadata": {},
   "outputs": [],
   "source": []
  }
 ],
 "metadata": {
  "kernelspec": {
   "display_name": "Python 3",
   "language": "python",
   "name": "python3"
  },
  "language_info": {
   "codemirror_mode": {
    "name": "ipython",
    "version": 3
   },
   "file_extension": ".py",
   "mimetype": "text/x-python",
   "name": "python",
   "nbconvert_exporter": "python",
   "pygments_lexer": "ipython3",
   "version": "3.11.5"
  }
 },
 "nbformat": 4,
 "nbformat_minor": 2
}
